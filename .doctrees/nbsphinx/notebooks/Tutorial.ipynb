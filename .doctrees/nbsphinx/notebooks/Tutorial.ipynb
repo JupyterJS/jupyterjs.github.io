{
 "cells": [
  {
   "cell_type": "markdown",
   "id": "fecdc934-80c4-4df6-84f7-08a001da96f2",
   "metadata": {},
   "source": [
    "# Tutorial\n",
    "JupyterJS heavily rely on communications between python and javascript kernels, which are asynchronous. It is strongly recommended to execute cells one-by-one instead of running all cells.  \n",
    "It will be helpful to familiar yourself with common asynchronous behaviors in Jupyter, e.g.,:  \n",
    "- [print() does not work](https://github.com/jupyter-widgets/ipywidgets/issues/2121)"
   ]
  },
  {
   "cell_type": "code",
   "execution_count": 1,
   "id": "66a668cc-24ad-43fe-8078-2226456bdea8",
   "metadata": {},
   "outputs": [],
   "source": [
    "from jupyterjs import JupyterJS\n",
    "import ipywidgets as widgets"
   ]
  },
  {
   "cell_type": "markdown",
   "id": "a3ddaec8-edb0-4a9c-a5b1-413fb432f51d",
   "metadata": {},
   "source": [
    "## 0. Base Usage"
   ]
  },
  {
   "cell_type": "code",
   "execution_count": 2,
   "id": "29502a4e-11f8-471a-87d8-375357a49bc9",
   "metadata": {},
   "outputs": [
    {
     "data": {
      "application/vnd.jupyter.widget-view+json": {
       "model_id": "630567abf02e410a8c7fff6b224c4c95",
       "version_major": 2,
       "version_minor": 0
      },
      "text/plain": [
       "VBox(children=(JupyterJS(value=None), VBox(children=(Accordion(children=(Tab(children=(HTML(value='\\n         …"
      ]
     },
     "metadata": {},
     "output_type": "display_data"
    }
   ],
   "source": [
    "w = JupyterJS()\n",
    "w.display()"
   ]
  },
  {
   "cell_type": "markdown",
   "id": "dd94241a-9000-4824-b5c7-546b6a6c3a9c",
   "metadata": {},
   "source": [
    "Expect to see an empty display with a console.\n",
    "![Basic Usage](basicusage.png)"
   ]
  },
  {
   "cell_type": "markdown",
   "id": "96613772-7288-4f41-bea8-b1f6eec6fea7",
   "metadata": {},
   "source": [
    "## 1. Map Variable and Functions\n",
    "JupyterJS provides an interface to bind variables/functions between the JS and Py scope. In other words, both JS/Py kernels have access to those variables/functions."
   ]
  },
  {
   "cell_type": "markdown",
   "id": "01c0ba66-ef02-44c7-bccc-46d6415e5653",
   "metadata": {},
   "source": [
    "### 1.1 Variables\n",
    "JupyterJS provides a *mapstate* method to map state variables between JS and Python.\n",
    "This method must be declared within the constructor.\n",
    "\n",
    "- Variables declared in python should be in a dict syntax with its initial value.\n",
    "- Variables declared in JavaScript are as string."
   ]
  },
  {
   "cell_type": "code",
   "execution_count": 3,
   "id": "11963e6a-1dec-4353-a074-8aa6de414a45",
   "metadata": {},
   "outputs": [
    {
     "data": {
      "application/vnd.jupyter.widget-view+json": {
       "model_id": "23c4e2bb18bd4db49767e4be3ac0286b",
       "version_major": 2,
       "version_minor": 0
      },
      "text/plain": [
       "VBox(children=(VariableMapper(value=None), VBox(children=(Accordion(children=(Tab(children=(HTML(value='\\n    …"
      ]
     },
     "metadata": {},
     "output_type": "display_data"
    }
   ],
   "source": [
    "class VariableMapper(JupyterJS):\n",
    "    mapstate = [{'pyv': 5}, 'jsv']\n",
    "w = VariableMapper()\n",
    "w.display()"
   ]
  },
  {
   "cell_type": "markdown",
   "id": "f7f8fe95-da5e-4aa8-af3f-c8bcb6862963",
   "metadata": {
    "tags": []
   },
   "source": [
    "Expect to see the following result. Note that now the variable *pyv* has a value as 5. The variable *jsv* is None because it has not been found in JS programs.\n",
    "![Expect to see the following result](1.1.png)\n",
    "\n"
   ]
  },
  {
   "cell_type": "code",
   "execution_count": 4,
   "id": "c77574f3-1189-4848-acd8-28bb2b9a3798",
   "metadata": {},
   "outputs": [],
   "source": [
    "# Now the JS scope can access pyv. Run this cell and you will see an altet window!\n",
    "w.javascript(\"alert(pyv)\")"
   ]
  },
  {
   "cell_type": "markdown",
   "id": "5bb09bbb-045a-4df9-8d99-f933afa57762",
   "metadata": {},
   "source": [
    "Variables declared in mapstate() are binded to JupyterJS.state. "
   ]
  },
  {
   "cell_type": "code",
   "execution_count": 5,
   "id": "e7b5de73-86d3-4de1-9e79-a5ff02f3a9da",
   "metadata": {},
   "outputs": [],
   "source": [
    "# Now change its value in JS.\n",
    "w.javascript(\"pyv = pyv + 5\")"
   ]
  },
  {
   "cell_type": "markdown",
   "id": "fcc75cbe-13da-4857-9729-f18ca59cf614",
   "metadata": {},
   "source": [
    "Expect to see the following result in the **previous console**. Note that a JupyterJS object is binded to **only one display area** with JupyterJS.display(). Now you can see *pyv* has a value as 10.\n",
    "![Example 1.2](1.2.png)\n",
    "\n"
   ]
  },
  {
   "cell_type": "code",
   "execution_count": 6,
   "id": "0e2d7fc3-c041-47ca-a83e-9030b9886e24",
   "metadata": {},
   "outputs": [
    {
     "name": "stdout",
     "output_type": "stream",
     "text": [
      "10\n"
     ]
    }
   ],
   "source": [
    "## Verify the results\n",
    "print(w.state.pyv)"
   ]
  },
  {
   "cell_type": "markdown",
   "id": "2f56e12e-a3b2-4cc2-aa9c-577bd0340d5a",
   "metadata": {},
   "source": [
    "Recall that jsv has not been found! Now let us define it in JavaScript."
   ]
  },
  {
   "cell_type": "code",
   "execution_count": 8,
   "id": "c727fd4a-2596-4465-9b99-27d08991a7af",
   "metadata": {},
   "outputs": [
    {
     "name": "stdout",
     "output_type": "stream",
     "text": [
      "abc\n"
     ]
    }
   ],
   "source": [
    "code = \"\"\"\n",
    "    var jsv = 'abc';\n",
    "\"\"\"\n",
    "w.javascript(code)\n",
    "print(w.state.jsv)"
   ]
  },
  {
   "cell_type": "markdown",
   "id": "ba80ef52-3af4-4f45-a1bd-13e7dde79625",
   "metadata": {},
   "source": [
    "Variables in mapstate() need to be **JSON-safe**, e.g., numbers, strings, dicts, and lists.  \n",
    "**Classes are not supported**!"
   ]
  },
  {
   "cell_type": "markdown",
   "id": "65cdc196-5ab0-4825-ad02-92dc7653312f",
   "metadata": {},
   "source": [
    "### 1.2 Functions\n",
    "The *mapmethod* method provides a convenient way to bind methods. Similarly, it takes an list of single-key object or string."
   ]
  },
  {
   "cell_type": "code",
   "execution_count": 9,
   "id": "b37c9c71-fd14-49a2-9b79-9828c6ff5823",
   "metadata": {},
   "outputs": [
    {
     "data": {
      "application/vnd.jupyter.widget-view+json": {
       "model_id": "747123250d64454294aecef6d95d8656",
       "version_major": 2,
       "version_minor": 0
      },
      "text/plain": [
       "Output()"
      ]
     },
     "metadata": {},
     "output_type": "display_data"
    }
   ],
   "source": [
    "out = widgets.Output()\n",
    "display(out)"
   ]
  },
  {
   "cell_type": "code",
   "execution_count": 10,
   "id": "2d1a369a-3eb7-42dd-9c40-bf27f1d71047",
   "metadata": {},
   "outputs": [
    {
     "data": {
      "application/vnd.jupyter.widget-view+json": {
       "model_id": "1da0010d99164967ae3c7e464465b1e6",
       "version_major": 2,
       "version_minor": 0
      },
      "text/plain": [
       "VBox(children=(MethodMapper(value=None), VBox(children=(Accordion(children=(Tab(children=(HTML(value='\\n      …"
      ]
     },
     "metadata": {},
     "output_type": "display_data"
    }
   ],
   "source": [
    "def foo(a):\n",
    "    with out:\n",
    "        print('this is a py function:', a * 2)\n",
    "\n",
    "class MethodMapper(JupyterJS):\n",
    "    mapstate = [{'pyv': 1}]\n",
    "    mapmethod = [{'pyfunc': foo}, 'jsfunc']\n",
    "    \n",
    "methodw = MethodMapper()\n",
    "methodw.display()"
   ]
  },
  {
   "cell_type": "markdown",
   "id": "159d7cf7-57e5-46bb-8714-9e8ef40299bc",
   "metadata": {},
   "source": [
    "Similarly, now you can see pyfunc and jsfunc in the console.\n",
    "![Example 1.3](1.3.png)"
   ]
  },
  {
   "cell_type": "markdown",
   "id": "546c8d8d-eff9-4435-83d4-bb32bd8fec6f",
   "metadata": {},
   "source": [
    "Now you can run pyfunc from JS."
   ]
  },
  {
   "cell_type": "code",
   "execution_count": 11,
   "id": "c6415b99-c215-4b9e-a556-1f94cb5ecade",
   "metadata": {},
   "outputs": [],
   "source": [
    "code = \"\"\"\n",
    "    pyfunc(pyv)\n",
    "\"\"\"\n",
    "methodw.javascript(code)"
   ]
  },
  {
   "cell_type": "markdown",
   "id": "11c17adb-dcc6-4301-a8de-7786faba1e98",
   "metadata": {},
   "source": [
    "Check the python console area!\n",
    "![Example 1.4](1.4.png)"
   ]
  },
  {
   "cell_type": "markdown",
   "id": "0cf25801-9379-4f97-ac67-1b58da152c55",
   "metadata": {},
   "source": [
    "Similarly, declare *jsfunc* and run it from python! Note that methods in *mapmethod* is attached to JupyterJS.methods."
   ]
  },
  {
   "cell_type": "code",
   "execution_count": 12,
   "id": "935b5ce9-8dcf-41e6-b592-c8ce9ef144da",
   "metadata": {},
   "outputs": [],
   "source": [
    "code = \"\"\"\n",
    "    const jsfunc = (x, y) => {\n",
    "        alert(`this is a js function called from py: ${x * 3}, ${y * 4}`);\n",
    "    }\n",
    "\"\"\"\n",
    "methodw.javascript(code)"
   ]
  },
  {
   "cell_type": "code",
   "execution_count": 13,
   "id": "bac0ad6b-e2a4-4ac1-bb20-9a918fa91145",
   "metadata": {},
   "outputs": [],
   "source": [
    "methodw.methods.jsfunc(1, 5)"
   ]
  },
  {
   "cell_type": "markdown",
   "id": "3bac99c5-cb4e-4e16-a27d-b51c38399e29",
   "metadata": {},
   "source": [
    "The above is the same as"
   ]
  },
  {
   "cell_type": "code",
   "execution_count": 14,
   "id": "4e2af333-614c-42fe-87f7-151eb59e56e4",
   "metadata": {},
   "outputs": [],
   "source": [
    "methodw.javascript('jsfunc(1,5)')"
   ]
  },
  {
   "cell_type": "markdown",
   "id": "394cf3d6-06de-4dfb-96f2-dc6828071c85",
   "metadata": {},
   "source": [
    "### 1.3 Scope\n",
    "Variables outside mapstate() will lost their scope. \n",
    "This is the default behavior of the built-in IPython.display.Javascript()."
   ]
  },
  {
   "cell_type": "code",
   "execution_count": 15,
   "id": "86d53c45-3e78-4776-a729-762c2a2ed5db",
   "metadata": {},
   "outputs": [
    {
     "data": {
      "application/javascript": [
       "var t = 5;"
      ],
      "text/plain": [
       "<IPython.core.display.Javascript object>"
      ]
     },
     "execution_count": 15,
     "metadata": {},
     "output_type": "execute_result"
    }
   ],
   "source": [
    "from IPython.display import Javascript\n",
    "Javascript(\"var t = 5;\")"
   ]
  },
  {
   "cell_type": "code",
   "execution_count": 16,
   "id": "1e71887c-cd6e-46fe-8992-99c1af4be49d",
   "metadata": {},
   "outputs": [
    {
     "data": {
      "application/javascript": [
       "t = t + 10"
      ],
      "text/plain": [
       "<IPython.core.display.Javascript object>"
      ]
     },
     "execution_count": 16,
     "metadata": {},
     "output_type": "execute_result"
    }
   ],
   "source": [
    "## you will see errors \n",
    "Javascript(\"t = t + 10\")"
   ]
  },
  {
   "cell_type": "markdown",
   "id": "cc3de48f-9bc3-46dc-b3ee-80727fcf09db",
   "metadata": {},
   "source": [
    "This is the same for JupyterJS."
   ]
  },
  {
   "cell_type": "code",
   "execution_count": 17,
   "id": "70bcdceb-1c54-49c4-9b51-350d916ff6be",
   "metadata": {},
   "outputs": [
    {
     "data": {
      "application/vnd.jupyter.widget-view+json": {
       "model_id": "83139f4a074440b39c836f47f8192bfe",
       "version_major": 2,
       "version_minor": 0
      },
      "text/plain": [
       "VBox(children=(ScopeTester(value=None), VBox(children=(Accordion(children=(Tab(children=(HTML(value='\\n       …"
      ]
     },
     "metadata": {},
     "output_type": "display_data"
    }
   ],
   "source": [
    "class ScopeTester(JupyterJS):\n",
    "    mapstate = ['jsv1']\n",
    "    \n",
    "stest = ScopeTester()\n",
    "stest.display()"
   ]
  },
  {
   "cell_type": "code",
   "execution_count": 18,
   "id": "829afd19-192a-46a8-883e-49f0a4102686",
   "metadata": {},
   "outputs": [],
   "source": [
    "stest.javascript(\"var jsv1 = 2; var jsv2 = 4;\") "
   ]
  },
  {
   "cell_type": "code",
   "execution_count": 19,
   "id": "315cc3a8-3f3f-45bb-a61b-8f76f30b892e",
   "metadata": {},
   "outputs": [],
   "source": [
    "## This will work\n",
    "stest.javascript(\"alert(jsv1)\")"
   ]
  },
  {
   "cell_type": "code",
   "execution_count": 20,
   "id": "78602cc3-3d19-4965-a9b9-cb2a11159aff",
   "metadata": {},
   "outputs": [],
   "source": [
    "## This will work not\n",
    "stest.javascript(\"alert(jsv2)\")"
   ]
  },
  {
   "cell_type": "markdown",
   "id": "e35aff36-9d54-4eb4-8ff3-64edab889194",
   "metadata": {},
   "source": [
    "### 1.4 Summary\n",
    "Now putting everything together. Run the following codes and play yourself!"
   ]
  },
  {
   "cell_type": "code",
   "execution_count": 21,
   "id": "197df79b-3eee-4c0f-bbb5-6a1017a542da",
   "metadata": {},
   "outputs": [
    {
     "data": {
      "application/vnd.jupyter.widget-view+json": {
       "model_id": "0bf61012262b4e16b79ad7ca6bb783f3",
       "version_major": 2,
       "version_minor": 0
      },
      "text/plain": [
       "VBox(children=(JSWidget(value=None), VBox(children=(Accordion(children=(Tab(children=(HTML(value='\\n          …"
      ]
     },
     "metadata": {},
     "output_type": "display_data"
    }
   ],
   "source": [
    "def foo(a, b):\n",
    "    print('this is a py function call from JS', a * 2, b)\n",
    "    \n",
    "class JSWidget(JupyterJS):\n",
    "    mapstate = [{'pyv': 5}, 'jsv']\n",
    "    mapmethod = [{'pyf': foo}, 'jsf']\n",
    "\n",
    "w = JSWidget()\n",
    "w.display()\n",
    "\n",
    "js = \"\"\"\n",
    "    pyf(4, 3);\n",
    "    \n",
    "    var jsv = 5;\n",
    "    \n",
    "    jsv = jsv * 2;\n",
    "    pyv = 'abc'\n",
    "    \n",
    "    const jsf = (x, y) => {\n",
    "        console.log('this is a js function called from py: ', x * 3, y);\n",
    "    }\n",
    "\"\"\""
   ]
  },
  {
   "cell_type": "code",
   "execution_count": 22,
   "id": "e07b194c-08e6-44ba-819d-45c79d617028",
   "metadata": {},
   "outputs": [],
   "source": [
    "w.javascript(js)"
   ]
  },
  {
   "cell_type": "code",
   "execution_count": 23,
   "id": "e0c7980b-1e49-47f6-b840-ccce614b660d",
   "metadata": {},
   "outputs": [],
   "source": [
    "w.javascript(\"pyv = 2; alert(pyv * jsv);\")"
   ]
  },
  {
   "cell_type": "markdown",
   "id": "b6ff29c3-723e-4740-a95e-e11685c03a34",
   "metadata": {},
   "source": [
    "## 2 Import JS packages\n",
    "JupyterJS provides helper functions to import es6 and umd packages.  \n",
    "Check out this [article](https://blog.sessionstack.com/how-javascript-works-the-module-pattern-comparing-commonjs-amd-umd-and-es6-modules-437f77548437) for different javascript modules formats.  \n",
    "⚠️ Importing UMD packages are only allowed in Jupyter Lab (no Notebooks). See https://github.com/jupyterlab/jupyterlab/issues/3118.\n"
   ]
  },
  {
   "cell_type": "markdown",
   "id": "31975867-61e2-433f-92cc-7793ce5f4b52",
   "metadata": {},
   "source": [
    "### 2.1 Import ES6\n",
    "The *import_es6* helper takes two input: the import command, and the import name.  "
   ]
  },
  {
   "cell_type": "code",
   "execution_count": 24,
   "id": "05da3466-a362-467d-9d6b-6a25835045a5",
   "metadata": {},
   "outputs": [
    {
     "data": {
      "text/html": [
       "\n",
       "            <script type=\"module\">\n",
       "                import * as d3 from \"https://cdn.jsdelivr.net/npm/d3@7/+esm\";\n",
       "                window.d3 = d3;\n",
       "            </script>\n",
       "        "
      ],
      "text/plain": [
       "<IPython.core.display.HTML object>"
      ]
     },
     "metadata": {},
     "output_type": "display_data"
    },
    {
     "data": {
      "application/vnd.jupyter.widget-view+json": {
       "model_id": "94d3a454859543a0b6e70b4284201409",
       "version_major": 2,
       "version_minor": 0
      },
      "text/plain": [
       "VBox(children=(D3Widget(value=None), VBox(children=(Accordion(children=(Tab(children=(HTML(value='\\n          …"
      ]
     },
     "metadata": {},
     "output_type": "display_data"
    }
   ],
   "source": [
    "class D3Widget(JupyterJS):\n",
    "    def __init__(self, *pargs, **kwargs):\n",
    "        super(D3Widget, self).__init__(*pargs, **kwargs)        \n",
    "        self.import_es6('import * as d3 from \"https://cdn.jsdelivr.net/npm/d3@7/+esm\";', 'd3')\n",
    "        \n",
    "d3w = D3Widget()\n",
    "d3w.display()"
   ]
  },
  {
   "cell_type": "code",
   "execution_count": 25,
   "id": "2138a112-c7c1-4bdb-bfcb-8f66d929c6c2",
   "metadata": {},
   "outputs": [],
   "source": [
    "w.javascript(\"alert(d3.color.name)\")"
   ]
  },
  {
   "cell_type": "markdown",
   "id": "6cf55b96-42e2-44be-80bf-c049e310a4e7",
   "metadata": {},
   "source": [
    "### 2.2 Import UMD\n",
    "The *import_umd* helper takes two input: the script url, and the import name.  \n",
    "⚠️ This does not work in Jupyter Notebooks, but Jupyter Lab only!"
   ]
  },
  {
   "cell_type": "code",
   "execution_count": 26,
   "id": "e2e0ee45-938a-4002-89bb-f4eda30450c0",
   "metadata": {},
   "outputs": [
    {
     "data": {
      "application/vnd.jupyter.widget-view+json": {
       "model_id": "c85d127ea3524d61bdd02e3577d7220a",
       "version_major": 2,
       "version_minor": 0
      },
      "text/plain": [
       "VBox(children=(DeckGLWidget(value=None), VBox(children=(Accordion(children=(Tab(children=(HTML(value='\\n      …"
      ]
     },
     "metadata": {},
     "output_type": "display_data"
    }
   ],
   "source": [
    "class DeckGLWidget(JupyterJS):\n",
    "    def __init__(self, *pargs, **kwargs):\n",
    "        super(DeckGLWidget, self).__init__(*pargs, **kwargs)        \n",
    "        self.import_umd(\"https://unpkg.com/deck.gl@8.8.23/dist.min.js\", 'deck')\n",
    "        \n",
    "deckw = DeckGLWidget()\n",
    "deckw.display()"
   ]
  },
  {
   "cell_type": "code",
   "execution_count": 27,
   "id": "9abbfaf1-e528-4361-ae49-e960eac60c7f",
   "metadata": {},
   "outputs": [],
   "source": [
    "deckw.javascript(\"alert(deck.version)\")"
   ]
  },
  {
   "cell_type": "markdown",
   "id": "834da326-8403-4b63-a72b-baddc9e976ac",
   "metadata": {},
   "source": [
    "## 3. Build a customize JS visualization\n",
    "Now you have known most of JupyterJS. The following text provides a hand-on tutorial for building a custom vis!   \n",
    "JupyterJS requires some (very simple) changes to JS codes to make it works.\n",
    "\n",
    "In this tutorial, we will use a simple bar chart from https://observablehq.com/@d3/bar-chart (ISC license)."
   ]
  },
  {
   "cell_type": "markdown",
   "id": "3d724ac2-4d07-4c28-9400-3d82690351eb",
   "metadata": {},
   "source": [
    "### 3.1 Element\n",
    "JupyterJS has an *element* property in the JS scope that is binded to the display area. Recall that *element* cannot exist in python scope because it contains classes."
   ]
  },
  {
   "cell_type": "code",
   "execution_count": 28,
   "id": "33ac2c1f-a9a4-4328-9683-76c0c1a1faf5",
   "metadata": {},
   "outputs": [
    {
     "data": {
      "text/plain": [
       "'\\nconst svg = d3.create(\"svg\")\\n'"
      ]
     },
     "execution_count": 28,
     "metadata": {},
     "output_type": "execute_result"
    }
   ],
   "source": [
    "## Original JS code \n",
    "\"\"\"\n",
    "const svg = d3.create(\"svg\")\n",
    "\"\"\""
   ]
  },
  {
   "cell_type": "code",
   "execution_count": 29,
   "id": "a797f466-f1ac-4a81-83c0-286da95ea1ad",
   "metadata": {},
   "outputs": [
    {
     "data": {
      "text/plain": [
       "'\\nconst svg = d3.select(element).append(\"svg\")\\n'"
      ]
     },
     "execution_count": 29,
     "metadata": {},
     "output_type": "execute_result"
    }
   ],
   "source": [
    "## This needs be changed to \n",
    "\"\"\"\n",
    "const svg = d3.select(element).append(\"svg\")\n",
    "\"\"\""
   ]
  },
  {
   "cell_type": "markdown",
   "id": "2c8e9079-cb89-4ef2-8622-c0cc0e11ff91",
   "metadata": {},
   "source": [
    "### 3.2 Functions and Variables in JS Scope\n",
    "To let JupyterJS maps variables and functions declared in JS scope. Those variables/functions must be explictly declared via const/var/let."
   ]
  },
  {
   "cell_type": "code",
   "execution_count": 30,
   "id": "0eb64976-430d-42cb-8e4d-d91ab6f8b5f7",
   "metadata": {},
   "outputs": [
    {
     "data": {
      "text/plain": [
       "'\\n    function BarChart(data, {\\n'"
      ]
     },
     "execution_count": 30,
     "metadata": {},
     "output_type": "execute_result"
    }
   ],
   "source": [
    "## Original\n",
    "\"\"\"\n",
    "    function BarChart(data, {\n",
    "\"\"\""
   ]
  },
  {
   "cell_type": "code",
   "execution_count": 31,
   "id": "70077233-3b08-4dcd-bc5b-ddb4b71d6f08",
   "metadata": {},
   "outputs": [
    {
     "data": {
      "text/plain": [
       "'\\n    const BarChart = function (data, {\\n'"
      ]
     },
     "execution_count": 31,
     "metadata": {},
     "output_type": "execute_result"
    }
   ],
   "source": [
    "## Changed to \n",
    "\"\"\"\n",
    "    const BarChart = function (data, {\n",
    "\"\"\""
   ]
  },
  {
   "cell_type": "markdown",
   "id": "f32b2d94-8c04-45d2-8567-bc382ab11028",
   "metadata": {},
   "source": [
    "Now the code becomes"
   ]
  },
  {
   "cell_type": "code",
   "execution_count": 32,
   "id": "33ed1441-a27c-48ca-bd84-75f7edb650da",
   "metadata": {},
   "outputs": [],
   "source": [
    "## copy paste \n",
    "jscode = \"\"\"\n",
    "const BarChart = function(data, {\n",
    "  x = (d, i) => i, // given d in data, returns the (ordinal) x-value\n",
    "  y = d => d, // given d in data, returns the (quantitative) y-value\n",
    "  title, // given d in data, returns the title text\n",
    "  marginTop = 20, // the top margin, in pixels\n",
    "  marginRight = 0, // the right margin, in pixels\n",
    "  marginBottom = 30, // the bottom margin, in pixels\n",
    "  marginLeft = 40, // the left margin, in pixels\n",
    "  width = 640, // the outer width of the chart, in pixels\n",
    "  height = 400, // the outer height of the chart, in pixels\n",
    "  xDomain, // an array of (ordinal) x-values\n",
    "  xRange = [marginLeft, width - marginRight], // [left, right]\n",
    "  yType = d3.scaleLinear, // y-scale type\n",
    "  yDomain, // [ymin, ymax]\n",
    "  yRange = [height - marginBottom, marginTop], // [bottom, top]\n",
    "  xPadding = 0.1, // amount of x-range to reserve to separate bars\n",
    "  yFormat, // a format specifier string for the y-axis\n",
    "  yLabel, // a label for the y-axis\n",
    "  color = \"currentColor\" // bar fill color\n",
    "} = {}) {\n",
    "  // Compute values.\n",
    "  const X = d3.map(data, x);\n",
    "  const Y = d3.map(data, y);\n",
    "\n",
    "  // Compute default domains, and unique the x-domain.\n",
    "  if (xDomain === undefined) xDomain = X;\n",
    "  if (yDomain === undefined) yDomain = [0, d3.max(Y)];\n",
    "  xDomain = new d3.InternSet(xDomain);\n",
    "\n",
    "  // Omit any data not present in the x-domain.\n",
    "  const I = d3.range(X.length).filter(i => xDomain.has(X[i]));\n",
    "\n",
    "  // Construct scales, axes, and formats.\n",
    "  const xScale = d3.scaleBand(xDomain, xRange).padding(xPadding);\n",
    "  const yScale = yType(yDomain, yRange);\n",
    "  const xAxis = d3.axisBottom(xScale).tickSizeOuter(0);\n",
    "  const yAxis = d3.axisLeft(yScale).ticks(height / 40, yFormat);\n",
    "\n",
    "  // Compute titles.\n",
    "  if (title === undefined) {\n",
    "    const formatValue = yScale.tickFormat(100, yFormat);\n",
    "    title = i => `${X[i]}\\n${formatValue(Y[i])}`;\n",
    "  } else {\n",
    "    const O = d3.map(data, d => d);\n",
    "    const T = title;\n",
    "    title = i => T(O[i], i, data);\n",
    "  }\n",
    "\n",
    "  const svg = d3.select(element).append(\"svg\")\n",
    "      .attr(\"width\", width)\n",
    "      .attr(\"height\", height)\n",
    "      .attr(\"viewBox\", [0, 0, width, height])\n",
    "      .attr(\"style\", \"max-width: 100%; height: auto; height: intrinsic;\");\n",
    "\n",
    "  svg.append(\"g\")\n",
    "      .attr(\"transform\", `translate(${marginLeft},0)`)\n",
    "      .call(yAxis)\n",
    "      .call(g => g.select(\".domain\").remove())\n",
    "      .call(g => g.selectAll(\".tick line\").clone()\n",
    "          .attr(\"x2\", width - marginLeft - marginRight)\n",
    "          .attr(\"stroke-opacity\", 0.1))\n",
    "      .call(g => g.append(\"text\")\n",
    "          .attr(\"x\", -marginLeft)\n",
    "          .attr(\"y\", 10)\n",
    "          .attr(\"fill\", \"currentColor\")\n",
    "          .attr(\"text-anchor\", \"start\")\n",
    "          .text(yLabel));\n",
    "\n",
    "  const bar = svg.append(\"g\")\n",
    "      .attr(\"fill\", color)\n",
    "    .selectAll(\"rect\")\n",
    "    .data(I)\n",
    "    .join(\"rect\")\n",
    "      .attr(\"x\", i => xScale(X[i]))\n",
    "      .attr(\"y\", i => yScale(Y[i]))\n",
    "      .attr(\"height\", i => yScale(0) - yScale(Y[i]))\n",
    "      .attr(\"width\", xScale.bandwidth());\n",
    "\n",
    "  if (title) bar.append(\"title\")\n",
    "      .text(title);\n",
    "\n",
    "  svg.append(\"g\")\n",
    "      .attr(\"transform\", `translate(0,${height - marginBottom})`)\n",
    "      .call(xAxis);\n",
    "\n",
    "  return svg.node();\n",
    "}\n",
    "\"\"\""
   ]
  },
  {
   "cell_type": "code",
   "execution_count": 33,
   "id": "004ec4e7-e369-4049-81df-1861f0459199",
   "metadata": {},
   "outputs": [],
   "source": [
    "## Generate a toy data\n",
    "data = [{'letter': \"A\", 'frequency': 0.08167}, {'letter': \"B\", 'frequency': 0.01492}]"
   ]
  },
  {
   "cell_type": "code",
   "execution_count": 34,
   "id": "47a60a4c-7889-41a7-88c1-a231d7589678",
   "metadata": {},
   "outputs": [
    {
     "data": {
      "text/html": [
       "\n",
       "            <script type=\"module\">\n",
       "                import * as d3 from \"https://cdn.jsdelivr.net/npm/d3@7/+esm\";\n",
       "                window.d3 = d3;\n",
       "            </script>\n",
       "        "
      ],
      "text/plain": [
       "<IPython.core.display.HTML object>"
      ]
     },
     "metadata": {},
     "output_type": "display_data"
    },
    {
     "data": {
      "application/vnd.jupyter.widget-view+json": {
       "model_id": "f7c5881beebe4d7bbf7e7b545ef5fb21",
       "version_major": 2,
       "version_minor": 0
      },
      "text/plain": [
       "VBox(children=(D3BarWidget(value=None), VBox(children=(Accordion(children=(Tab(children=(HTML(value='\\n       …"
      ]
     },
     "metadata": {},
     "output_type": "display_data"
    }
   ],
   "source": [
    "## Now create an instance\n",
    "class D3BarWidget(JupyterJS):\n",
    "    def __init__(self, data, *pargs, **kwargs):\n",
    "        super(D3BarWidget, self).__init__(*pargs, **kwargs)\n",
    "        \n",
    "        ## register data\n",
    "        self.mapstate = [{'data': data}]   \n",
    "        ## register the method in JS Code\n",
    "        self.mapmethod = ['BarChart']  \n",
    "        \n",
    "        self.import_es6('import * as d3 from \"https://cdn.jsdelivr.net/npm/d3@7/+esm\";', 'd3')\n",
    "\n",
    "d3bar = D3BarWidget(data = data)\n",
    "d3bar.display()"
   ]
  },
  {
   "cell_type": "code",
   "execution_count": 35,
   "id": "e56d3f57-c92e-407b-831a-3d1022dcd6c7",
   "metadata": {},
   "outputs": [],
   "source": [
    "d3bar.javascript(jscode)"
   ]
  },
  {
   "cell_type": "markdown",
   "id": "d3aea397-1bf4-4c3a-8dab-7c90133c310e",
   "metadata": {},
   "source": [
    "Now BarChart() can be called from both js/py. However, as its parameter include functions, it is recommended to run from JS side for avoiding unnessary communications."
   ]
  },
  {
   "cell_type": "code",
   "execution_count": 36,
   "id": "772a7ba1-1e7e-4a28-91e6-1ed6cdc2c45f",
   "metadata": {},
   "outputs": [],
   "source": [
    "d3bar.javascript(\"\"\"\n",
    "BarChart(data , {\n",
    "  x: d => d.letter,\n",
    "  y: d => d.frequency,\n",
    "  xDomain: d3.groupSort(data, ([d]) => -d.frequency, d => d.letter), // sort by descending frequency\n",
    "  yFormat: \"%\",\n",
    "  yLabel: \"↑ Frequency\",\n",
    "  width: 200,\n",
    "  height: 200,\n",
    "  color: \"steelblue\"})\n",
    "\"\"\")"
   ]
  },
  {
   "cell_type": "markdown",
   "id": "e2049924-692a-4747-81ae-dc88f6b6bd39",
   "metadata": {},
   "source": [
    "Now you see the visualizations!  \n",
    "![d3 bar chart](3.1.png)"
   ]
  },
  {
   "cell_type": "markdown",
   "id": "93515548-006e-4552-a22f-7b722ef03ed7",
   "metadata": {},
   "source": [
    "### 3.3 Making Visualizations Interactive and Reactive "
   ]
  },
  {
   "cell_type": "markdown",
   "id": "12859621-6a0e-4d8d-9c04-f739893c716c",
   "metadata": {},
   "source": [
    "Now we want to make charts interactive and reactive. Here we implement an on-hover function.   \n",
    "⚠️ Reactivity is implemented using Proxy in Javascript. As such, only **objects are reactive** (not primitives such as string and numbers). A suggestion is to wrap primitives into an object such as {'value': 5}."
   ]
  },
  {
   "cell_type": "code",
   "execution_count": 37,
   "id": "7ca88c4b-f42a-483e-914a-7258b647b1d4",
   "metadata": {},
   "outputs": [
    {
     "data": {
      "text/plain": [
       "\"\\n   bar.on('mouseover', (e, d) => {\\n        hovered.value = d;\\n    });\\n\""
      ]
     },
     "execution_count": 37,
     "metadata": {},
     "output_type": "execute_result"
    }
   ],
   "source": [
    "## First register on-hover event in JS\n",
    "\"\"\"\n",
    "   bar.on('mouseover', (e, d) => {\n",
    "        hovered.value = d;\n",
    "    });\n",
    "\"\"\""
   ]
  },
  {
   "cell_type": "code",
   "execution_count": 38,
   "id": "2c22f208-18d0-4028-b9f0-e6be9c05159e",
   "metadata": {},
   "outputs": [],
   "source": [
    "## copy paste \n",
    "jscode = \"\"\"\n",
    "const BarChart = function(data, {\n",
    "  x = (d, i) => i, // given d in data, returns the (ordinal) x-value\n",
    "  y = d => d, // given d in data, returns the (quantitative) y-value\n",
    "  title, // given d in data, returns the title text\n",
    "  marginTop = 20, // the top margin, in pixels\n",
    "  marginRight = 0, // the right margin, in pixels\n",
    "  marginBottom = 30, // the bottom margin, in pixels\n",
    "  marginLeft = 40, // the left margin, in pixels\n",
    "  width = 640, // the outer width of the chart, in pixels\n",
    "  height = 400, // the outer height of the chart, in pixels\n",
    "  xDomain, // an array of (ordinal) x-values\n",
    "  xRange = [marginLeft, width - marginRight], // [left, right]\n",
    "  yType = d3.scaleLinear, // y-scale type\n",
    "  yDomain, // [ymin, ymax]\n",
    "  yRange = [height - marginBottom, marginTop], // [bottom, top]\n",
    "  xPadding = 0.1, // amount of x-range to reserve to separate bars\n",
    "  yFormat, // a format specifier string for the y-axis\n",
    "  yLabel, // a label for the y-axis\n",
    "  color = \"currentColor\" // bar fill color\n",
    "} = {}) {\n",
    "  // Compute values.\n",
    "  const X = d3.map(data, x);\n",
    "  const Y = d3.map(data, y);\n",
    "\n",
    "  // Compute default domains, and unique the x-domain.\n",
    "  if (xDomain === undefined) xDomain = X;\n",
    "  if (yDomain === undefined) yDomain = [0, d3.max(Y)];\n",
    "  xDomain = new d3.InternSet(xDomain);\n",
    "\n",
    "  // Omit any data not present in the x-domain.\n",
    "  const I = d3.range(X.length).filter(i => xDomain.has(X[i]));\n",
    "\n",
    "  // Construct scales, axes, and formats.\n",
    "  const xScale = d3.scaleBand(xDomain, xRange).padding(xPadding);\n",
    "  const yScale = yType(yDomain, yRange);\n",
    "  const xAxis = d3.axisBottom(xScale).tickSizeOuter(0);\n",
    "  const yAxis = d3.axisLeft(yScale).ticks(height / 40, yFormat);\n",
    "\n",
    "  // Compute titles.\n",
    "  if (title === undefined) {\n",
    "    const formatValue = yScale.tickFormat(100, yFormat);\n",
    "    title = i => `${X[i]}\\n${formatValue(Y[i])}`;\n",
    "  } else {\n",
    "    const O = d3.map(data, d => d);\n",
    "    const T = title;\n",
    "    title = i => T(O[i], i, data);\n",
    "  }\n",
    "  \n",
    "  const svg = d3.select(element).append(\"svg\")\n",
    "      .attr('id', 'reactived3bar')\n",
    "      .attr(\"width\", width)\n",
    "      .attr(\"height\", height)\n",
    "      .attr(\"viewBox\", [0, 0, width, height])\n",
    "      .attr(\"style\", \"max-width: 100%; height: auto; height: intrinsic;\");\n",
    "\n",
    "  console.log(element, svg)\n",
    "\n",
    "  svg.append(\"g\")\n",
    "      .attr(\"transform\", `translate(${marginLeft},0)`)\n",
    "      .call(yAxis)\n",
    "      .call(g => g.select(\".domain\").remove())\n",
    "      .call(g => g.selectAll(\".tick line\").clone()\n",
    "          .attr(\"x2\", width - marginLeft - marginRight)\n",
    "          .attr(\"stroke-opacity\", 0.1))\n",
    "      .call(g => g.append(\"text\")\n",
    "          .attr(\"x\", -marginLeft)\n",
    "          .attr(\"y\", 10)\n",
    "          .attr(\"fill\", \"currentColor\")\n",
    "          .attr(\"text-anchor\", \"start\")\n",
    "          .text(yLabel));\n",
    "\n",
    "  const bar = svg.append(\"g\")\n",
    "      .attr(\"fill\", color)\n",
    "    .selectAll(\"rect\")\n",
    "    .data(I)\n",
    "    .join(\"rect\")\n",
    "      .attr(\"x\", i => xScale(X[i]))\n",
    "      .attr(\"y\", i => yScale(Y[i]))\n",
    "      .attr(\"height\", i => yScale(0) - yScale(Y[i]))\n",
    "      .attr(\"width\", xScale.bandwidth());\n",
    "      \n",
    "   bar.on('mouseover', (e, d) => {\n",
    "        hovered.value = d;\n",
    "    });\n",
    "\n",
    "  if (title) bar.append(\"title\")\n",
    "      .text(title);\n",
    "\n",
    "  svg.append(\"g\")\n",
    "      .attr(\"transform\", `translate(0,${height - marginBottom})`)\n",
    "      .call(xAxis);\n",
    "\n",
    "  return svg.node();\n",
    "}\n",
    "\"\"\""
   ]
  },
  {
   "cell_type": "code",
   "execution_count": 39,
   "id": "6a779675-b840-4b49-8b0c-15ff38caddb2",
   "metadata": {},
   "outputs": [
    {
     "data": {
      "text/html": [
       "\n",
       "            <script type=\"module\">\n",
       "                import * as d3 from \"https://cdn.jsdelivr.net/npm/d3@7/+esm\";\n",
       "                window.d3 = d3;\n",
       "            </script>\n",
       "        "
      ],
      "text/plain": [
       "<IPython.core.display.HTML object>"
      ]
     },
     "metadata": {},
     "output_type": "display_data"
    },
    {
     "data": {
      "application/vnd.jupyter.widget-view+json": {
       "model_id": "40385d1841b042bab39a04f2bd00b2ff",
       "version_major": 2,
       "version_minor": 0
      },
      "text/plain": [
       "VBox(children=(ReactiveD3(value=None), VBox(children=(Accordion(children=(Tab(children=(HTML(value='\\n        …"
      ]
     },
     "metadata": {},
     "output_type": "display_data"
    }
   ],
   "source": [
    "data = [{'letter': \"A\", 'frequency': 0.08167}, {'letter': \"B\", 'frequency': 0.01492}]\n",
    "\n",
    "## Now create an instance. Note that we add a new hovered variable in the state.\n",
    "class ReactiveD3(JupyterJS):\n",
    "    def __init__(self, data, *pargs, **kwargs):\n",
    "        super(ReactiveD3, self).__init__(*pargs, **kwargs)\n",
    "        \n",
    "        ## register data\n",
    "        self.mapstate = [{'data': data}, {'hovered': {'value': ''}}]   \n",
    "\n",
    "        self.mapmethod = ['BarChart']  \n",
    "        \n",
    "        self.import_es6('import * as d3 from \"https://cdn.jsdelivr.net/npm/d3@7/+esm\";', 'd3')\n",
    "        \n",
    "d3barreactive = ReactiveD3(data = data)\n",
    "d3barreactive.display()"
   ]
  },
  {
   "cell_type": "code",
   "execution_count": 40,
   "id": "8ac77bdc-07f9-489a-ad95-d6b4531f4e99",
   "metadata": {},
   "outputs": [],
   "source": [
    "d3barreactive.javascript(jscode)"
   ]
  },
  {
   "cell_type": "code",
   "execution_count": 41,
   "id": "30f9d68f-0ba5-410e-a9b7-977bec7312bb",
   "metadata": {},
   "outputs": [],
   "source": [
    "d3barreactive.javascript(\"\"\"\n",
    "BarChart(data , {\n",
    "  x: d => d.letter,\n",
    "  y: d => d.frequency,\n",
    "  xDomain: d3.groupSort(data, ([d]) => -d.frequency, d => d.letter), // sort by descending frequency\n",
    "  yFormat: \"%\",\n",
    "  yLabel: \"↑ Frequency\",\n",
    "  width: 200,\n",
    "  height: 200,\n",
    "  color: \"steelblue\"})\n",
    "\"\"\")"
   ]
  },
  {
   "cell_type": "markdown",
   "id": "5ff9104d-2d3a-4e68-8c25-f478d4863d6a",
   "metadata": {},
   "source": [
    "Now you have a reactive bar chart. Note how *hovered* changed when hovering on the bar!\n",
    "![](d3barreactive.gif)"
   ]
  }
 ],
 "metadata": {
  "kernelspec": {
   "display_name": "Python 3 (ipykernel)",
   "language": "python",
   "name": "python3"
  },
  "language_info": {
   "codemirror_mode": {
    "name": "ipython",
    "version": 3
   },
   "file_extension": ".py",
   "mimetype": "text/x-python",
   "name": "python",
   "nbconvert_exporter": "python",
   "pygments_lexer": "ipython3",
   "version": "3.9.6"
  }
 },
 "nbformat": 4,
 "nbformat_minor": 5
}
